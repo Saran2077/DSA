{
 "cells": [
  {
   "cell_type": "code",
   "execution_count": 1,
   "id": "83edd42e",
   "metadata": {},
   "outputs": [],
   "source": [
    "#Linked List"
   ]
  },
  {
   "cell_type": "code",
   "execution_count": 2,
   "id": "552c62fb",
   "metadata": {},
   "outputs": [],
   "source": [
    "#Creating Node for Singly Linked List"
   ]
  },
  {
   "cell_type": "code",
   "execution_count": 10,
   "id": "80352d99",
   "metadata": {},
   "outputs": [],
   "source": [
    "class Node:\n",
    "    def __init__(self, data, head ):\n",
    "        self.data = data\n",
    "        self.next = head"
   ]
  },
  {
   "cell_type": "code",
   "execution_count": 11,
   "id": "ac04ebb4",
   "metadata": {},
   "outputs": [],
   "source": [
    "#Creating LinkedList class "
   ]
  },
  {
   "cell_type": "code",
   "execution_count": 12,
   "id": "5c4073ba",
   "metadata": {},
   "outputs": [],
   "source": [
    "class LinkedList:\n",
    "    def __init__(self):\n",
    "        self.head = None\n",
    "    \n",
    "    #Inserting data in starting of the LinkedList\n",
    "    def insert_at_start(self, data):\n",
    "        node = Node(data, self.head)\n",
    "        self.head = node\n",
    "    \n",
    "    #display the Linked List\n",
    "    def display(self):\n",
    "        #If head is empty no data is inserted into the Linked List because at first the head is None and when a data is inserted the head changes into the node for pointing the previous Node\n",
    "        if self.head is None:\n",
    "            print(\"Linked List is Empty\")\n",
    "            return\n",
    "        \n",
    "        itr = self.head\n",
    "        while itr:\n",
    "            print(itr.data)\n",
    "            itr = itr.next\n",
    "        \n",
    "        \n",
    "        "
   ]
  },
  {
   "cell_type": "code",
   "execution_count": 13,
   "id": "58962796",
   "metadata": {},
   "outputs": [],
   "source": [
    "#Creating a linked List\n",
    "ll = LinkedList()"
   ]
  },
  {
   "cell_type": "code",
   "execution_count": 15,
   "id": "4b681a7e",
   "metadata": {},
   "outputs": [],
   "source": [
    "#Inserting at the start of the linked list\n",
    "ll.insert_at_start(5)\n",
    "ll.insert_at_start(10)"
   ]
  },
  {
   "cell_type": "code",
   "execution_count": null,
   "id": "9e91b863",
   "metadata": {},
   "outputs": [],
   "source": []
  }
 ],
 "metadata": {
  "kernelspec": {
   "display_name": "Python 3 (ipykernel)",
   "language": "python",
   "name": "python3"
  },
  "language_info": {
   "codemirror_mode": {
    "name": "ipython",
    "version": 3
   },
   "file_extension": ".py",
   "mimetype": "text/x-python",
   "name": "python",
   "nbconvert_exporter": "python",
   "pygments_lexer": "ipython3",
   "version": "3.9.13"
  }
 },
 "nbformat": 4,
 "nbformat_minor": 5
}
