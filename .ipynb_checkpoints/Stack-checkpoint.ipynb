{
 "cells": [
  {
   "cell_type": "code",
   "execution_count": 3,
   "id": "ff15c106",
   "metadata": {},
   "outputs": [
    {
     "data": {
      "text/plain": [
       "'Stack is a linear data structure that follows a particular order in which the operations are performed. The order maybe LIFO(Last In First Out) or  FILO(First in Last Out)'"
      ]
     },
     "execution_count": 3,
     "metadata": {},
     "output_type": "execute_result"
    }
   ],
   "source": [
    "'''Stack is a linear data structure that follows a particular order in which the operations are performed. The order maybe LIFO(Last In First Out) or  FILO(First in Last Out)'''"
   ]
  },
  {
   "cell_type": "code",
   "execution_count": 4,
   "id": "64274c9b",
   "metadata": {},
   "outputs": [
    {
     "data": {
      "text/plain": [
       "'Operation\\npeek\\npop\\npush\\nsize\\nisEmpty'"
      ]
     },
     "execution_count": 4,
     "metadata": {},
     "output_type": "execute_result"
    }
   ],
   "source": [
    "'''Operation\n",
    "peek\n",
    "pop\n",
    "push\n",
    "size\n",
    "isEmpty'''"
   ]
  },
  {
   "cell_type": "code",
   "execution_count": 5,
   "id": "5e44f369",
   "metadata": {},
   "outputs": [],
   "source": [
    "#Using array"
   ]
  },
  {
   "cell_type": "code",
   "execution_count": 34,
   "id": "87c75ebc",
   "metadata": {},
   "outputs": [],
   "source": [
    "class Stack:\n",
    "    def __init__(self):\n",
    "        self.stack = []\n",
    "    \n",
    "    def push(self, element):\n",
    "        self.stack.append(element)\n",
    "        \n",
    "    def peek(self):\n",
    "        try:\n",
    "            return self.stack[0]\n",
    "        except IndexError:\n",
    "            return \"Stack is empty\"\n",
    "    \n",
    "    def isEmpty(self):\n",
    "        return len(self.stack) == 0\n",
    "    \n",
    "    def size(self):\n",
    "        return len(self.stack)\n",
    "    \n",
    "    def __repr__(self):\n",
    "        return ' '.join(list(map(str, self.stack)))"
   ]
  },
  {
   "cell_type": "code",
   "execution_count": 35,
   "id": "aa623441",
   "metadata": {},
   "outputs": [],
   "source": [
    "s = Stack()"
   ]
  },
  {
   "cell_type": "code",
   "execution_count": 39,
   "id": "19cea620",
   "metadata": {},
   "outputs": [],
   "source": []
  },
  {
   "cell_type": "code",
   "execution_count": 41,
   "id": "d8f344ae",
   "metadata": {},
   "outputs": [],
   "source": [
    "#Using Linked List"
   ]
  },
  {
   "cell_type": "code",
   "execution_count": 43,
   "id": "2423f0dd",
   "metadata": {},
   "outputs": [],
   "source": [
    "class Node:\n",
    "    def __init__(self, data, next=None):\n",
    "        self.data = data\n",
    "        self.next = next"
   ]
  },
  {
   "cell_type": "code",
   "execution_count": 44,
   "id": "6ab54009",
   "metadata": {},
   "outputs": [],
   "source": [
    "class StackLL:\n",
    "    def __init__(self):\n",
    "        self.stack = None\n",
    "    \n",
    "    def push(self, element):\n",
    "        if self.stack == None:\n",
    "            self.stack = Node(element)\n",
    "        else:\n",
    "            self.stack = Node(element, self.stack.data)\n",
    "    \n",
    "    def display(self):\n",
    "        itr = self.stack\n",
    "        while itr:\n",
    "            print(itr.data, end=' ')\n",
    "            itr = itr.next"
   ]
  },
  {
   "cell_type": "code",
   "execution_count": 45,
   "id": "220bad40",
   "metadata": {},
   "outputs": [],
   "source": [
    "sll = StackLL()"
   ]
  },
  {
   "cell_type": "code",
   "execution_count": 47,
   "id": "23d7fc81",
   "metadata": {},
   "outputs": [],
   "source": [
    "sll.push(4)"
   ]
  },
  {
   "cell_type": "code",
   "execution_count": null,
   "id": "2a395ba7",
   "metadata": {},
   "outputs": [],
   "source": []
  },
  {
   "cell_type": "code",
   "execution_count": null,
   "id": "f38739ee",
   "metadata": {},
   "outputs": [],
   "source": []
  }
 ],
 "metadata": {
  "kernelspec": {
   "display_name": "Python 3 (ipykernel)",
   "language": "python",
   "name": "python3"
  },
  "language_info": {
   "codemirror_mode": {
    "name": "ipython",
    "version": 3
   },
   "file_extension": ".py",
   "mimetype": "text/x-python",
   "name": "python",
   "nbconvert_exporter": "python",
   "pygments_lexer": "ipython3",
   "version": "3.9.13"
  }
 },
 "nbformat": 4,
 "nbformat_minor": 5
}
