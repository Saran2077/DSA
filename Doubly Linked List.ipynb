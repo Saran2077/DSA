{
 "cells": [
  {
   "cell_type": "code",
   "execution_count": null,
   "id": "2a752493",
   "metadata": {},
   "outputs": [],
   "source": []
  },
  {
   "cell_type": "code",
   "execution_count": null,
   "id": "80d3319c",
   "metadata": {},
   "outputs": [],
   "source": []
  },
  {
   "cell_type": "code",
   "execution_count": 1,
   "id": "e0970110",
   "metadata": {},
   "outputs": [],
   "source": [
    "#Doubly Linked List"
   ]
  },
  {
   "cell_type": "code",
   "execution_count": 3,
   "id": "16e53751",
   "metadata": {},
   "outputs": [],
   "source": [
    "class Node:\n",
    "    def __init__(self, data, prev=None, next=None):\n",
    "        self.prev = prev\n",
    "        self.data = data\n",
    "        self.next = next"
   ]
  },
  {
   "cell_type": "code",
   "execution_count": 316,
   "id": "9749ebb7",
   "metadata": {},
   "outputs": [],
   "source": [
    "class DoublyLinkedList:\n",
    "    def __init__(self):\n",
    "        self.head = None\n",
    "            \n",
    "    def isEmpty(self):\n",
    "        return self.head == None\n",
    "    \n",
    "    def size(self):\n",
    "        i, itr = 0, self.head\n",
    "        while itr:\n",
    "            i+=1\n",
    "            itr = itr.next\n",
    "        return i\n",
    "    \n",
    "    def insertAtBegin(self, element):\n",
    "        if self.isEmpty():\n",
    "            self.head = Node(element)\n",
    "            return\n",
    "        newNode = Node(element)\n",
    "        self.head.prev = newNode\n",
    "        newNode.next = self.head\n",
    "        self.head = newNode\n",
    "\n",
    "            \n",
    "    def insertAtLast(self, element):\n",
    "        if self.isEmpty():\n",
    "            self.head = Node(element)\n",
    "            return\n",
    "        itr = self.head\n",
    "        newNode = Node(element)\n",
    "        while itr:\n",
    "            if itr.next == None:\n",
    "                newNode.prev = itr\n",
    "                itr.next = newNode\n",
    "                break\n",
    "            itr = itr.next\n",
    "            \n",
    "    def insertAt(self, ind, element):\n",
    "        if ind < 0 or ind > self.size():\n",
    "            return \"You Entered a wrong index\"\n",
    "        elif ind == 0:\n",
    "            self.insertAtBegin(element)\n",
    "        elif ind == self.size():\n",
    "            self.insertAtLast(element)\n",
    "        else:\n",
    "            itr = self.head\n",
    "            i = 0\n",
    "            newNode = Node(element)\n",
    "            while i <= ind:\n",
    "                if i == ind-1:\n",
    "                    newNode.prev = itr\n",
    "                    newNode.next = itr.next\n",
    "                    itr.next = itr.next.next.prev = newNode\n",
    "                itr = itr.next\n",
    "                i+=1\n",
    "            \n",
    "        \n",
    "                \n",
    "    def display(self):\n",
    "        if self.isEmpty():\n",
    "            print(\"List is empty\")\n",
    "            return\n",
    "        itr = self.head\n",
    "        s = ''\n",
    "        while itr:\n",
    "            s += str(itr.data)+'->'\n",
    "            if itr.next == None:\n",
    "                break\n",
    "            itr = itr.next\n",
    "        print(s.strip('->'))\n",
    "        s = ''\n",
    "        while itr:\n",
    "            s += str(itr.data)+'<-'\n",
    "            itr = itr.prev\n",
    "        print(s.strip('<-'))\n",
    "            \n",
    "        "
   ]
  },
  {
   "cell_type": "code",
   "execution_count": 317,
   "id": "953cbb5e",
   "metadata": {},
   "outputs": [],
   "source": [
    "dll = DoublyLinkedList()"
   ]
  },
  {
   "cell_type": "code",
   "execution_count": 318,
   "id": "64c00382",
   "metadata": {},
   "outputs": [
    {
     "data": {
      "text/plain": [
       "True"
      ]
     },
     "execution_count": 318,
     "metadata": {},
     "output_type": "execute_result"
    }
   ],
   "source": [
    "dll.isEmpty()"
   ]
  },
  {
   "cell_type": "code",
   "execution_count": 325,
   "id": "c2d7687f",
   "metadata": {},
   "outputs": [],
   "source": [
    "dll.insertAtLast(0)"
   ]
  },
  {
   "cell_type": "code",
   "execution_count": 336,
   "id": "fd12863d",
   "metadata": {
    "scrolled": true
   },
   "outputs": [
    {
     "name": "stdout",
     "output_type": "stream",
     "text": [
      "0->0->6->5->5->6->0->561->56\n",
      "56<-561<-0<-6<-5<-5<-6<-0<-0\n"
     ]
    }
   ],
   "source": [
    "dll.display()"
   ]
  },
  {
   "cell_type": "code",
   "execution_count": 335,
   "id": "65f0bcf1",
   "metadata": {},
   "outputs": [],
   "source": [
    "dll.insertAt(7,561)"
   ]
  },
  {
   "cell_type": "code",
   "execution_count": null,
   "id": "11132bcb",
   "metadata": {},
   "outputs": [],
   "source": []
  }
 ],
 "metadata": {
  "kernelspec": {
   "display_name": "Python 3 (ipykernel)",
   "language": "python",
   "name": "python3"
  },
  "language_info": {
   "codemirror_mode": {
    "name": "ipython",
    "version": 3
   },
   "file_extension": ".py",
   "mimetype": "text/x-python",
   "name": "python",
   "nbconvert_exporter": "python",
   "pygments_lexer": "ipython3",
   "version": "3.9.13"
  }
 },
 "nbformat": 4,
 "nbformat_minor": 5
}
