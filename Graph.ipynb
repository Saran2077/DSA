{
 "cells": [
  {
   "cell_type": "code",
   "execution_count": 1,
   "id": "562beb4b",
   "metadata": {},
   "outputs": [],
   "source": [
    "#Graph"
   ]
  },
  {
   "cell_type": "code",
   "execution_count": 4,
   "id": "beab85a3",
   "metadata": {},
   "outputs": [],
   "source": [
    "#create a class for Graph\n",
    "#Dict are useful in creating the links\n",
    "class Graph:\n",
    "    def __init__(self, edges):\n",
    "        self.graph_dict = {}\n",
    "        for start, end in edges:\n",
    "            if start in self.graph_dict:\n",
    "                self.graph_dict[start] += [end]\n",
    "            else:\n",
    "                self.graph_dict[start] = [end]\n",
    "        print(self.graph_dict)\n",
    "    \n",
    "    def get_paths(self, start, end, ans=[]):\n",
    "        ans = ans + [start]\n",
    "        if start == end:\n",
    "            return ans\n",
    "        final = None\n",
    "        if start in self.graph_dict:\n",
    "            for city in self.graph_dict[start]:\n",
    "                if city not in ans:\n",
    "                    sol = self.get_paths(city, end, ans)\n",
    "                    if sol!=None:\n",
    "                        if final==None or len(final) > len(sol):\n",
    "                            final = sol\n",
    "        return final\n",
    "\n",
    "            \n",
    "            \n",
    "            \n",
    "    "
   ]
  },
  {
   "cell_type": "code",
   "execution_count": 5,
   "id": "801b5ed7",
   "metadata": {},
   "outputs": [
    {
     "name": "stdout",
     "output_type": "stream",
     "text": [
      "{'Mumbai': ['Paris', 'Dubai'], 'Paris': ['Dubai', 'New York', 'Mumbai'], 'Dubai': ['New York'], 'New York': ['Toronto']}\n"
     ]
    }
   ],
   "source": [
    "edges = [\n",
    "    (\"Mumbai\", \"Paris\"),\n",
    "    (\"Mumbai\", \"Dubai\"),\n",
    "    (\"Paris\", \"Dubai\"),\n",
    "    (\"Paris\", \"New York\"),\n",
    "    (\"Paris\", \"Mumbai\"),\n",
    "    (\"Dubai\", \"New York\"),\n",
    "    (\"New York\", \"Toronto\")\n",
    "]\n",
    "graph = Graph(edges)"
   ]
  },
  {
   "cell_type": "code",
   "execution_count": 7,
   "id": "29be7f10",
   "metadata": {},
   "outputs": [
    {
     "data": {
      "text/plain": [
       "['Paris', 'New York']"
      ]
     },
     "execution_count": 7,
     "metadata": {},
     "output_type": "execute_result"
    }
   ],
   "source": [
    "graph.get_paths(\"Paris\", \"New York\")"
   ]
  },
  {
   "cell_type": "raw",
   "id": "f1138806",
   "metadata": {},
   "source": []
  }
 ],
 "metadata": {
  "kernelspec": {
   "display_name": "Python 3 (ipykernel)",
   "language": "python",
   "name": "python3"
  },
  "language_info": {
   "codemirror_mode": {
    "name": "ipython",
    "version": 3
   },
   "file_extension": ".py",
   "mimetype": "text/x-python",
   "name": "python",
   "nbconvert_exporter": "python",
   "pygments_lexer": "ipython3",
   "version": "3.9.13"
  }
 },
 "nbformat": 4,
 "nbformat_minor": 5
}
