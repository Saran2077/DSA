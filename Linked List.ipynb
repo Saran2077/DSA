{
 "cells": [
  {
   "cell_type": "code",
   "execution_count": 1,
   "id": "ef584f51",
   "metadata": {},
   "outputs": [],
   "source": [
    "#Linked List"
   ]
  },
  {
   "cell_type": "code",
   "execution_count": 2,
   "id": "7ce383b7",
   "metadata": {},
   "outputs": [],
   "source": [
    "#Creating Node for Singly Linked List"
   ]
  },
  {
   "cell_type": "code",
   "execution_count": 7,
   "id": "e811ea72",
   "metadata": {},
   "outputs": [],
   "source": [
    "class Node:\n",
    "    def __init__(self, data, next=None):\n",
    "        self.data = data\n",
    "        self.next = next"
   ]
  },
  {
   "cell_type": "code",
   "execution_count": 8,
   "id": "b58ba609",
   "metadata": {},
   "outputs": [],
   "source": [
    "#Creating LinkedList class "
   ]
  },
  {
   "cell_type": "code",
   "execution_count": 133,
   "id": "16ff880a",
   "metadata": {},
   "outputs": [],
   "source": [
    "class LinkedList:\n",
    "    def __init__(self):\n",
    "        self.head = None\n",
    "    \n",
    "    #Inserting data in starting of the LinkedList\n",
    "    def insert_at_start(self, data):\n",
    "        node = Node(data, self.head)\n",
    "        self.head = node\n",
    "        \n",
    "    #Inserting data at end of the LinkedList\n",
    "    def insert(self, data):\n",
    "        node = Node(data)\n",
    "        if self.head == None:\n",
    "            self.head = node\n",
    "            return\n",
    "\n",
    "        itr = self.head\n",
    "        while itr:\n",
    "            if itr.next == None:\n",
    "                itr.next = node\n",
    "                break\n",
    "            itr = itr.next\n",
    "            \n",
    "    #Insert data at a specific index\n",
    "    def insertAt(self, ind, data):\n",
    "        if ind==0:\n",
    "            self.insert_at_start(data)\n",
    "            return\n",
    "        i = 0\n",
    "        itr = self.head\n",
    "        while itr:\n",
    "            if i == ind-1:\n",
    "                curr = Node(data, itr.next)\n",
    "                itr.next = curr\n",
    "                return\n",
    "            i+=1\n",
    "            itr = itr.next\n",
    "        \n",
    "        self.insert(data)\n",
    "    \n",
    "    #Insert a list of values\n",
    "    def insert_values(self, data):\n",
    "        for i in data:\n",
    "            self.insert(i)\n",
    "            \n",
    "    #Insert the value after a certain data\n",
    "#     def insert_after(self, after, data):\n",
    "        \n",
    "    \n",
    "    #Delete a node from Linked list using index\n",
    "    def delete(self, ind):\n",
    "        if ind==0:\n",
    "            self.head = self.head.next\n",
    "            return\n",
    "        i = 0\n",
    "        itr = self.head\n",
    "        while itr:\n",
    "            if i == ind-1:\n",
    "                itr.next = itr.next.next\n",
    "                return\n",
    "            itr = itr.next\n",
    "            i += 1\n",
    "            \n",
    "    #Delete a data from Linked list using value\n",
    "    def remove(self, item):\n",
    "        if self.head.data == item:\n",
    "            self.data = self.data.next\n",
    "            return\n",
    "        itr = self.head\n",
    "        while itr:\n",
    "            if itr.data == item:\n",
    "                prev.next = itr.next\n",
    "                return\n",
    "            prev = itr\n",
    "            itr = itr.next\n",
    "            \n",
    "    #Delete all data from Linked list using value\n",
    "    def remove_all(self, item):\n",
    "        itr = self.head\n",
    "        prev = self.head\n",
    "        while itr.next:\n",
    "            if itr.data == item:\n",
    "                prev.next = itr.next\n",
    "            prev = itr\n",
    "            itr = itr.next\n",
    "        \n",
    "    #display the Linked List\n",
    "    def display(self):\n",
    "        #If head is empty no data is inserted into the Linked List because at first the head is None and when a data is inserted the head changes into the node for pointing the previous Node\n",
    "        if self.head is None:\n",
    "            print(\"Linked List is Empty\")\n",
    "            return\n",
    "        \n",
    "        itr = self.head\n",
    "        while itr:\n",
    "            print(itr.data,end='-->')\n",
    "            itr = itr.next\n",
    "        print()\n",
    "        \n",
    "        \n",
    "        "
   ]
  },
  {
   "cell_type": "code",
   "execution_count": 134,
   "id": "75ded044",
   "metadata": {},
   "outputs": [],
   "source": [
    "#Creating a linked List\n",
    "ll = LinkedList()"
   ]
  },
  {
   "cell_type": "code",
   "execution_count": 135,
   "id": "0fb0652d",
   "metadata": {},
   "outputs": [],
   "source": [
    "#Inserting at the start of the linked list\n",
    "ll.insert(10)\n",
    "ll.insert(30)"
   ]
  },
  {
   "cell_type": "code",
   "execution_count": 136,
   "id": "f39dc2c4",
   "metadata": {},
   "outputs": [],
   "source": [
    "ll.insert_at_start(5)"
   ]
  },
  {
   "cell_type": "code",
   "execution_count": 137,
   "id": "a36fb8d3",
   "metadata": {},
   "outputs": [
    {
     "name": "stdout",
     "output_type": "stream",
     "text": [
      "5-->10-->30-->\n"
     ]
    }
   ],
   "source": [
    "ll.display()"
   ]
  },
  {
   "cell_type": "code",
   "execution_count": 148,
   "id": "889574f0",
   "metadata": {},
   "outputs": [],
   "source": [
    "ll.insertAt(0, 1)"
   ]
  },
  {
   "cell_type": "code",
   "execution_count": 151,
   "id": "edca44c8",
   "metadata": {},
   "outputs": [
    {
     "name": "stdout",
     "output_type": "stream",
     "text": [
      "1-->5-->10-->30-->1-->1-->1-->1-->\n"
     ]
    }
   ],
   "source": [
    "ll.display()"
   ]
  },
  {
   "cell_type": "code",
   "execution_count": 150,
   "id": "56c7d501",
   "metadata": {},
   "outputs": [],
   "source": [
    "ll.remove_all(1)"
   ]
  },
  {
   "cell_type": "code",
   "execution_count": null,
   "id": "d8840d06",
   "metadata": {},
   "outputs": [],
   "source": []
  }
 ],
 "metadata": {
  "kernelspec": {
   "display_name": "Python 3 (ipykernel)",
   "language": "python",
   "name": "python3"
  },
  "language_info": {
   "codemirror_mode": {
    "name": "ipython",
    "version": 3
   },
   "file_extension": ".py",
   "mimetype": "text/x-python",
   "name": "python",
   "nbconvert_exporter": "python",
   "pygments_lexer": "ipython3",
   "version": "3.9.13"
  }
 },
 "nbformat": 4,
 "nbformat_minor": 5
}
