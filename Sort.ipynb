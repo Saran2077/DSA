{
 "cells": [
  {
   "cell_type": "code",
   "execution_count": 1,
   "id": "f789033b",
   "metadata": {},
   "outputs": [],
   "source": [
    "#Quick Sort"
   ]
  },
  {
   "cell_type": "code",
   "execution_count": 110,
   "id": "f871706f",
   "metadata": {},
   "outputs": [],
   "source": [
    "def partition(arr, i, j):\n",
    "    pivot = i\n",
    "    while i <= j:\n",
    "        if arr[i] <= arr[pivot]:\n",
    "            i+=1\n",
    "        elif arr[j] > arr[pivot]:\n",
    "            j -= 1\n",
    "        else:\n",
    "            arr[i], arr[j] = arr[j], arr[i] \n",
    "    arr[j], arr[pivot] = arr[pivot], arr[j]\n",
    "    return j"
   ]
  },
  {
   "cell_type": "code",
   "execution_count": 111,
   "id": "2554cde8",
   "metadata": {},
   "outputs": [],
   "source": [
    "def quickSort(arr, i, j):\n",
    "    if i < j and j<len(arr) and i >= 0:\n",
    "        pi = partition(arr, i, j)\n",
    "        l = quickSort(arr, i, pi-1)\n",
    "        r = quickSort(arr, pi+1, len(arr)-1)"
   ]
  },
  {
   "cell_type": "code",
   "execution_count": 112,
   "id": "0dcd230c",
   "metadata": {},
   "outputs": [
    {
     "data": {
      "text/plain": [
       "[0, 5, 7, 11, 12, 15, 23, 30]"
      ]
     },
     "execution_count": 112,
     "metadata": {},
     "output_type": "execute_result"
    }
   ],
   "source": [
    "arr = [11, 7, 30 ,5 ,23, 12, 15, 0]\n",
    "quickSort(arr, 0, len(arr)-1)\n",
    "arr"
   ]
  },
  {
   "cell_type": "code",
   "execution_count": 1,
   "id": "625da20a",
   "metadata": {},
   "outputs": [],
   "source": [
    "#Merge Sort"
   ]
  },
  {
   "cell_type": "code",
   "execution_count": 52,
   "id": "01dda9be",
   "metadata": {},
   "outputs": [],
   "source": [
    "def merge(arr1, arr2):\n",
    "    i = j = 0\n",
    "    arr3 = []\n",
    "    while i+j < (len(arr1) + len(arr2)):\n",
    "        if i < len(arr1) and j < len(arr2):\n",
    "            if arr1[i] < arr2[j]:\n",
    "                arr3.append(arr1[i])\n",
    "                i += 1\n",
    "            else:\n",
    "                arr3.append(arr2[j])\n",
    "                j += 1\n",
    "        else:\n",
    "            if i == len(arr1):\n",
    "                arr3.extend(arr2[j:])\n",
    "            else:\n",
    "                arr3.extend(arr1[i:])\n",
    "            return arr3"
   ]
  },
  {
   "cell_type": "code",
   "execution_count": 53,
   "id": "f0484eed",
   "metadata": {},
   "outputs": [],
   "source": [
    "def mergeSort(arr):\n",
    "    if len(arr) == 1:\n",
    "        return arr\n",
    "    size = len(arr)//2\n",
    "    arr1 = mergeSort(arr[:size])\n",
    "    arr2 = mergeSort(arr[size:])\n",
    "    return merge(arr1, arr2)"
   ]
  },
  {
   "cell_type": "code",
   "execution_count": 55,
   "id": "8011ef30",
   "metadata": {},
   "outputs": [
    {
     "data": {
      "text/plain": [
       "[0, 2, 3, 3, 4, 5, 7, 9]"
      ]
     },
     "execution_count": 55,
     "metadata": {},
     "output_type": "execute_result"
    }
   ],
   "source": [
    "mergeSort([9,3,5,7, 0,2,3,4])"
   ]
  },
  {
   "cell_type": "code",
   "execution_count": null,
   "id": "636c177b",
   "metadata": {},
   "outputs": [],
   "source": []
  },
  {
   "cell_type": "code",
   "execution_count": null,
   "id": "c7f9b61c",
   "metadata": {},
   "outputs": [],
   "source": []
  }
 ],
 "metadata": {
  "kernelspec": {
   "display_name": "Python 3 (ipykernel)",
   "language": "python",
   "name": "python3"
  },
  "language_info": {
   "codemirror_mode": {
    "name": "ipython",
    "version": 3
   },
   "file_extension": ".py",
   "mimetype": "text/x-python",
   "name": "python",
   "nbconvert_exporter": "python",
   "pygments_lexer": "ipython3",
   "version": "3.9.13"
  }
 },
 "nbformat": 4,
 "nbformat_minor": 5
}
