{
 "cells": [
  {
   "cell_type": "code",
   "execution_count": 3,
   "id": "ad9923ac",
   "metadata": {},
   "outputs": [
    {
     "data": {
      "text/plain": [
       "'Stack is a linear data structure that follows a particular order in which the operations are performed. The order maybe LIFO(Last In First Out) or  FILO(First in Last Out)'"
      ]
     },
     "execution_count": 3,
     "metadata": {},
     "output_type": "execute_result"
    }
   ],
   "source": [
    "'''Stack is a linear data structure that follows a particular order in which the operations are performed. The order maybe LIFO(Last In First Out) or  FILO(First in Last Out)'''"
   ]
  },
  {
   "cell_type": "code",
   "execution_count": 4,
   "id": "bb77b4cb",
   "metadata": {},
   "outputs": [
    {
     "data": {
      "text/plain": [
       "'Operation\\npeek\\npop\\npush\\nsize\\nisEmpty'"
      ]
     },
     "execution_count": 4,
     "metadata": {},
     "output_type": "execute_result"
    }
   ],
   "source": [
    "'''Operation\n",
    "peek\n",
    "pop\n",
    "push\n",
    "size\n",
    "isEmpty'''"
   ]
  },
  {
   "cell_type": "code",
   "execution_count": 5,
   "id": "81beff7e",
   "metadata": {},
   "outputs": [],
   "source": [
    "#Using array"
   ]
  },
  {
   "cell_type": "code",
   "execution_count": 34,
   "id": "c3b74710",
   "metadata": {},
   "outputs": [],
   "source": [
    "class Stack:\n",
    "    def __init__(self):\n",
    "        self.stack = []\n",
    "    \n",
    "    def push(self, element):\n",
    "        self.stack.append(element)\n",
    "        \n",
    "    def peek(self):\n",
    "        try:\n",
    "            return self.stack[0]\n",
    "        except IndexError:\n",
    "            return \"Stack is empty\"\n",
    "    \n",
    "    def isEmpty(self):\n",
    "        return len(self.stack) == 0\n",
    "    \n",
    "    def size(self):\n",
    "        return len(self.stack)\n",
    "    \n",
    "    def __repr__(self):\n",
    "        return ' '.join(list(map(str, self.stack)))"
   ]
  },
  {
   "cell_type": "code",
   "execution_count": 35,
   "id": "12f91f7e",
   "metadata": {},
   "outputs": [],
   "source": [
    "s = Stack()"
   ]
  },
  {
   "cell_type": "code",
   "execution_count": 39,
   "id": "efafced3",
   "metadata": {},
   "outputs": [],
   "source": []
  },
  {
   "cell_type": "code",
   "execution_count": 41,
   "id": "496c88c3",
   "metadata": {},
   "outputs": [],
   "source": [
    "#Using Linked List"
   ]
  },
  {
   "cell_type": "code",
   "execution_count": 72,
   "id": "5a7d35c8",
   "metadata": {},
   "outputs": [],
   "source": [
    "class Node:\n",
    "    def __init__(self, data, next=None):\n",
    "        self.data = data\n",
    "        self.next = next"
   ]
  },
  {
   "cell_type": "code",
   "execution_count": 107,
   "id": "ea222d99",
   "metadata": {},
   "outputs": [],
   "source": [
    "class StackLL:\n",
    "    def __init__(self):\n",
    "        self.stack = None\n",
    "    \n",
    "    def push(self, element):\n",
    "        if self.isEmpty():\n",
    "            self.stack = Node(element)\n",
    "        else:\n",
    "            self.stack = Node(element, self.stack)\n",
    "            \n",
    "    def pop(self):\n",
    "        try:\n",
    "            self.poppedElement = self.stack.data\n",
    "            self.stack = self.stack.next\n",
    "            return self.poppedElement\n",
    "        except AttributeError:\n",
    "            return \"Stack is Empty\"\n",
    "        \n",
    "    def peek(self):\n",
    "        try:\n",
    "            return self.stack.data\n",
    "        except AttributeError:\n",
    "            return \"Stack is Empty\"\n",
    "    \n",
    "    def display(self):\n",
    "        if self.isEmpty():\n",
    "            return \"Stack is Empty\"\n",
    "        itr = self.stack\n",
    "        while itr:\n",
    "            print(itr.data, end=' ')\n",
    "            itr = itr.next\n",
    "            \n",
    "    def isEmpty(self):\n",
    "        return self.stack == None\n",
    "    \n",
    "    def size(self):\n",
    "        i = 0\n",
    "        itr = self.stack\n",
    "        while itr:\n",
    "            i+=1\n",
    "            itr = itr.next\n",
    "        return i"
   ]
  },
  {
   "cell_type": "code",
   "execution_count": 108,
   "id": "e89b895f",
   "metadata": {},
   "outputs": [],
   "source": [
    "sll = StackLL()"
   ]
  },
  {
   "cell_type": "code",
   "execution_count": 116,
   "id": "c8424369",
   "metadata": {},
   "outputs": [],
   "source": [
    "sll.push(5)"
   ]
  },
  {
   "cell_type": "code",
   "execution_count": 117,
   "id": "120c55d7",
   "metadata": {},
   "outputs": [
    {
     "data": {
      "text/plain": [
       "False"
      ]
     },
     "execution_count": 117,
     "metadata": {},
     "output_type": "execute_result"
    }
   ],
   "source": [
    "sll.isEmpty()"
   ]
  },
  {
   "cell_type": "code",
   "execution_count": 118,
   "id": "1876312e",
   "metadata": {},
   "outputs": [
    {
     "name": "stdout",
     "output_type": "stream",
     "text": [
      "5 5 5 "
     ]
    }
   ],
   "source": [
    "sll.display()"
   ]
  },
  {
   "cell_type": "code",
   "execution_count": 121,
   "id": "f1b06fea",
   "metadata": {},
   "outputs": [
    {
     "data": {
      "text/plain": [
       "5"
      ]
     },
     "execution_count": 121,
     "metadata": {},
     "output_type": "execute_result"
    }
   ],
   "source": [
    "sll.peek()"
   ]
  },
  {
   "cell_type": "code",
   "execution_count": null,
   "id": "cf3a8c72",
   "metadata": {},
   "outputs": [],
   "source": []
  }
 ],
 "metadata": {
  "kernelspec": {
   "display_name": "Python 3 (ipykernel)",
   "language": "python",
   "name": "python3"
  },
  "language_info": {
   "codemirror_mode": {
    "name": "ipython",
    "version": 3
   },
   "file_extension": ".py",
   "mimetype": "text/x-python",
   "name": "python",
   "nbconvert_exporter": "python",
   "pygments_lexer": "ipython3",
   "version": "3.9.13"
  }
 },
 "nbformat": 4,
 "nbformat_minor": 5
}
