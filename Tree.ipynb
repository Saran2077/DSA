{
 "cells": [
  {
   "cell_type": "code",
   "execution_count": 4,
   "id": "d04c25d9",
   "metadata": {},
   "outputs": [
    {
     "data": {
      "text/plain": [
       "'Tree can be defined as a collection of nodes or entities linked together to simulate a hieracrhy'"
      ]
     },
     "execution_count": 4,
     "metadata": {},
     "output_type": "execute_result"
    }
   ],
   "source": [
    "'''Tree can be defined as a collection of nodes or entities linked together to simulate a hieracrhy'''"
   ]
  },
  {
   "cell_type": "code",
   "execution_count": 3,
   "id": "c2000df4",
   "metadata": {},
   "outputs": [
    {
     "data": {
      "text/plain": [
       "'Parent Node - The immediate predecossor of any node'"
      ]
     },
     "execution_count": 3,
     "metadata": {},
     "output_type": "execute_result"
    }
   ],
   "source": [
    "'''Parent Node - The immediate predecossor of any node''' "
   ]
  },
  {
   "cell_type": "code",
   "execution_count": 255,
   "id": "4803581b",
   "metadata": {},
   "outputs": [],
   "source": [
    "class BinaryTree:\n",
    "    def __init__(self, data):\n",
    "        self.data = data\n",
    "        self.left = None\n",
    "        self.right = None\n",
    "    \n",
    "    def insert(self, ele):\n",
    "        if self.data == ele:\n",
    "            return\n",
    "        \n",
    "        if self.data > ele:\n",
    "            if self.left:\n",
    "                self.left.insert(ele)\n",
    "            else:\n",
    "                self.left = BinaryTree(ele)\n",
    "                \n",
    "        else:\n",
    "            if self.right:\n",
    "                self.right.insert(ele)\n",
    "            else:\n",
    "                self.right = BinaryTree(ele)\n",
    "                \n",
    "    def inorder_traversal(self):\n",
    "        elements = []\n",
    "        if self.left:\n",
    "            elements += self.left.inorder_traversal()\n",
    "        elements.append(self.data)\n",
    "        if self.right:\n",
    "            elements += self.right.inorder_traversal()\n",
    "        \n",
    "        return elements\n",
    "                \n",
    "    def preorder_traversal(self):\n",
    "        elements = []\n",
    "        elements.append(self.data)\n",
    "        if self.left:\n",
    "            elements += self.left.preorder_traversal()\n",
    "        if self.right:\n",
    "            elements += self.right.preorder_traversal()\n",
    "        return elements\n",
    "    \n",
    "    def postorder_traversal(self):\n",
    "        elements = []\n",
    "        if self.left:\n",
    "            elements += self.left.postorder_traversal()\n",
    "        if self.right:\n",
    "            elements += self.right.postorder_traversal()\n",
    "        elements.append(self.data)\n",
    "        return elements\n",
    "    \n",
    "    def search(self, val):\n",
    "        if self.data == val:\n",
    "            return True\n",
    "        if val < self.data:\n",
    "            if self.left:\n",
    "                return self.left.search(val)\n",
    "        if val > self.data:\n",
    "            if self.right:\n",
    "                return self.right.search(val)\n",
    "        return False\n",
    "    \n",
    "    def find_min(self):\n",
    "        if self.left:\n",
    "            return self.left.find_min()\n",
    "\n",
    "        return self.data\n",
    "    \n",
    "    def find_max(self):\n",
    "        if self.right:\n",
    "            return self.right.find_max()\n",
    "\n",
    "        return self.data\n",
    "    \n",
    "    def calculate_sum(self):\n",
    "        sum = 0\n",
    "        if self.left:\n",
    "            sum += self.left.calculate_sum()\n",
    "        if self.right:\n",
    "            sum += self.right.calculate_sum()\n",
    "        return sum+self.data\n",
    "    \n",
    "    def height_tree(self, height=-1):\n",
    "        height += 1\n",
    "        l_height = r_height = height\n",
    "        if self.left:\n",
    "            l_height = self.left.height_tree(height)\n",
    "        if self.right:\n",
    "            r_height = self.right.height_tree(height)\n",
    "        return max(l_height, r_height)\n",
    "        \n",
    "        \n",
    "    def print_Tree(self):\n",
    "        print(self.data)\n",
    "        if self.left:\n",
    "            self.left.print_Tree()\n",
    "        if self.right:\n",
    "            self.right.print_Tree()\n",
    "            \n",
    "    def height(self):\n",
    "        l = self.left.height() + 1 if self.left else 0\n",
    "        r = self.right.height() + 1 if self.right else 0\n",
    "        return max(l, r)\n",
    "    \n",
    "    def dist_from_root(self, a):\n",
    "        if self.data == a:\n",
    "            return 0\n",
    "        elif self.data > a:\n",
    "            return self.left.dist_from_root(a) + 1\n",
    "        return self.right.dist_from_root(a) + 1\n",
    "    \n",
    "    def dist_btn_2(self, a, b):\n",
    "        if self.data < a and self.data < b:\n",
    "            return self.right.dist_btn_2(a, b)\n",
    "        elif self.data > a and self.data > b:\n",
    "            return self.left.dist_btn_2(a, b)\n",
    "        else:\n",
    "            return self.dist_from_root(a) + self.dist_from_root(b)\n",
    "        \n",
    "    def lca(self, a, b):\n",
    "        if self.data < a and self.data < b:\n",
    "            return self.right.lca(a, b)\n",
    "        elif self.data > a and self.data > b:\n",
    "            return self.left.lca(a, b)\n",
    "        else:\n",
    "            return self.data\n",
    "        \n",
    "    def remove(self, val):\n",
    "        if self.data == val:\n",
    "            print(self.data)\n",
    "            return True\n",
    "        else:\n",
    "            if self.data < val and self.right:\n",
    "                if self.right.remove(val):\n",
    "                    \n",
    "            if self.data > val and self.left:\n",
    "                if self.left.remove(val):\n",
    "        \n",
    "    def leftView(self):\n",
    "        elements = []\n",
    "        elements.append(self.data)\n",
    "        if self.left:\n",
    "            elements += self.left.leftView()\n",
    "        if self.right:\n",
    "            if self.right.left:\n",
    "                elements += self.right.left.leftView()\n",
    "        return elements"
   ]
  },
  {
   "cell_type": "code",
   "execution_count": null,
   "id": "cd2ab1a6",
   "metadata": {},
   "outputs": [],
   "source": []
  },
  {
   "cell_type": "code",
   "execution_count": 256,
   "id": "c4cf030d",
   "metadata": {},
   "outputs": [],
   "source": [
    "ele = [1, 9, 4, 18, 26, 25, 24, 23, 20, 0, 17]\n",
    "t = BinaryTree(ele.pop())\n",
    "for i in ele[::-1]:\n",
    "    t.insert(i)"
   ]
  },
  {
   "cell_type": "code",
   "execution_count": 257,
   "id": "a32aaf68",
   "metadata": {},
   "outputs": [
    {
     "name": "stdout",
     "output_type": "stream",
     "text": [
      "17\n",
      "0\n",
      "4\n",
      "1\n",
      "9\n",
      "20\n",
      "18\n",
      "23\n",
      "24\n",
      "25\n",
      "26\n"
     ]
    }
   ],
   "source": [
    "t.print_Tree()"
   ]
  },
  {
   "cell_type": "code",
   "execution_count": 258,
   "id": "e2a77d26",
   "metadata": {},
   "outputs": [
    {
     "data": {
      "text/plain": [
       "[0, 1, 4, 9, 17, 18, 20, 23, 24, 25, 26]"
      ]
     },
     "execution_count": 258,
     "metadata": {},
     "output_type": "execute_result"
    }
   ],
   "source": [
    "t.inorder_traversal()"
   ]
  },
  {
   "cell_type": "code",
   "execution_count": 259,
   "id": "edde449f",
   "metadata": {},
   "outputs": [
    {
     "data": {
      "text/plain": [
       "[17, 0, 4, 1, 9, 20, 18, 23, 24, 25, 26]"
      ]
     },
     "execution_count": 259,
     "metadata": {},
     "output_type": "execute_result"
    }
   ],
   "source": [
    "t.preorder_traversal()"
   ]
  },
  {
   "cell_type": "code",
   "execution_count": 260,
   "id": "9d62002f",
   "metadata": {},
   "outputs": [
    {
     "data": {
      "text/plain": [
       "[1, 9, 4, 0, 18, 26, 25, 24, 23, 20, 17]"
      ]
     },
     "execution_count": 260,
     "metadata": {},
     "output_type": "execute_result"
    }
   ],
   "source": [
    "t.postorder_traversal()"
   ]
  },
  {
   "cell_type": "code",
   "execution_count": 261,
   "id": "f64fd83f",
   "metadata": {},
   "outputs": [
    {
     "data": {
      "text/plain": [
       "False"
      ]
     },
     "execution_count": 261,
     "metadata": {},
     "output_type": "execute_result"
    }
   ],
   "source": [
    "t.search(218)"
   ]
  },
  {
   "cell_type": "code",
   "execution_count": 262,
   "id": "aa4859b2",
   "metadata": {},
   "outputs": [
    {
     "data": {
      "text/plain": [
       "0"
      ]
     },
     "execution_count": 262,
     "metadata": {},
     "output_type": "execute_result"
    }
   ],
   "source": [
    "t.find_min()"
   ]
  },
  {
   "cell_type": "code",
   "execution_count": 263,
   "id": "2a9a2c19",
   "metadata": {},
   "outputs": [
    {
     "data": {
      "text/plain": [
       "26"
      ]
     },
     "execution_count": 263,
     "metadata": {},
     "output_type": "execute_result"
    }
   ],
   "source": [
    "t.find_max()"
   ]
  },
  {
   "cell_type": "code",
   "execution_count": 264,
   "id": "82243849",
   "metadata": {},
   "outputs": [
    {
     "data": {
      "text/plain": [
       "167"
      ]
     },
     "execution_count": 264,
     "metadata": {},
     "output_type": "execute_result"
    }
   ],
   "source": [
    "t.calculate_sum()"
   ]
  },
  {
   "cell_type": "code",
   "execution_count": 265,
   "id": "434eb7ba",
   "metadata": {},
   "outputs": [
    {
     "data": {
      "text/plain": [
       "5"
      ]
     },
     "execution_count": 265,
     "metadata": {},
     "output_type": "execute_result"
    }
   ],
   "source": [
    "t.height_tree()"
   ]
  },
  {
   "cell_type": "code",
   "execution_count": 266,
   "id": "c428b632",
   "metadata": {},
   "outputs": [
    {
     "data": {
      "text/plain": [
       "5"
      ]
     },
     "execution_count": 266,
     "metadata": {},
     "output_type": "execute_result"
    }
   ],
   "source": [
    "t.height()"
   ]
  },
  {
   "cell_type": "code",
   "execution_count": 267,
   "id": "bff492cc",
   "metadata": {},
   "outputs": [
    {
     "data": {
      "text/plain": [
       "8"
      ]
     },
     "execution_count": 267,
     "metadata": {},
     "output_type": "execute_result"
    }
   ],
   "source": [
    "t.dist_btn_2(26, 1)"
   ]
  },
  {
   "cell_type": "code",
   "execution_count": 268,
   "id": "e2379154",
   "metadata": {},
   "outputs": [
    {
     "data": {
      "text/plain": [
       "0"
      ]
     },
     "execution_count": 268,
     "metadata": {},
     "output_type": "execute_result"
    }
   ],
   "source": [
    "t.lca(1, 0)"
   ]
  },
  {
   "cell_type": "code",
   "execution_count": 269,
   "id": "42d5bb19",
   "metadata": {},
   "outputs": [
    {
     "data": {
      "text/plain": [
       "[17, 0, 1, 18]"
      ]
     },
     "execution_count": 269,
     "metadata": {},
     "output_type": "execute_result"
    }
   ],
   "source": [
    "t.leftView()"
   ]
  },
  {
   "cell_type": "code",
   "execution_count": 270,
   "id": "1af00e85",
   "metadata": {},
   "outputs": [
    {
     "name": "stdout",
     "output_type": "stream",
     "text": [
      "1\n"
     ]
    }
   ],
   "source": [
    "t.remove(1)"
   ]
  },
  {
   "cell_type": "code",
   "execution_count": null,
   "id": "a5d3bf90",
   "metadata": {},
   "outputs": [],
   "source": []
  }
 ],
 "metadata": {
  "kernelspec": {
   "display_name": "Python 3 (ipykernel)",
   "language": "python",
   "name": "python3"
  },
  "language_info": {
   "codemirror_mode": {
    "name": "ipython",
    "version": 3
   },
   "file_extension": ".py",
   "mimetype": "text/x-python",
   "name": "python",
   "nbconvert_exporter": "python",
   "pygments_lexer": "ipython3",
   "version": "3.9.13"
  }
 },
 "nbformat": 4,
 "nbformat_minor": 5
}
