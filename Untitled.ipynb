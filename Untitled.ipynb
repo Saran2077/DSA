{
 "cells": [
  {
   "cell_type": "code",
   "execution_count": 1,
   "id": "08f2ad1c",
   "metadata": {},
   "outputs": [],
   "source": [
    "#Graph"
   ]
  },
  {
   "cell_type": "code",
   "execution_count": null,
   "id": "176e5d6d",
   "metadata": {},
   "outputs": [],
   "source": [
    "#Stack"
   ]
  },
  {
   "cell_type": "code",
   "execution_count": 17,
   "id": "24e91cb5",
   "metadata": {},
   "outputs": [],
   "source": [
    "class Stack:\n",
    "    def __init__(self):\n",
    "        self.stack = []\n",
    "    \n",
    "    def push(self, ele):\n",
    "        self.stack.append(ele)\n",
    "        \n",
    "    def pop(self):\n",
    "        if self.isEmpty():\n",
    "            return\n",
    "        return self.stack.pop()\n",
    "    \n",
    "    def peek(self):\n",
    "        if self.isEmpty():\n",
    "            return\n",
    "        return self.stack[-1]\n",
    "    \n",
    "    def isEmpty(self):\n",
    "        return len(self.stack) == 0"
   ]
  },
  {
   "cell_type": "code",
   "execution_count": null,
   "id": "d165ce42",
   "metadata": {},
   "outputs": [],
   "source": []
  },
  {
   "cell_type": "code",
   "execution_count": 50,
   "id": "66731fa5",
   "metadata": {},
   "outputs": [],
   "source": [
    "class Graph:\n",
    "    def __init__(self, nodes):\n",
    "        self.graph = {node:[] for node in nodes}\n",
    "    \n",
    "    def edges(self, edges) :\n",
    "        for edge in edges:\n",
    "            self.graph[edge[0]] = [*self.graph[edge[0]], edge[1]]\n",
    "            \n",
    "    def dfs(self, v):\n",
    "        s = Stack()\n",
    "        s.push(v)\n",
    "        while not s.isEmpty():\n",
    "            visited = s.pop()\n",
    "            print(visited)\n",
    "            for i in self.graph[visited]:\n",
    "                s.push(i)\n",
    "                \n",
    "    def recur_dfs(self, v):\n",
    "        print(v)\n",
    "        for i in self.graph[v]:\n",
    "            self.recur_dfs(i)\n",
    "                \n",
    "    def bfs(self, v):\n",
    "        q = [v]\n",
    "        while q:\n",
    "            visited = q.pop(0)\n",
    "            print(visited)\n",
    "            q.extend(self.graph[visited])"
   ]
  },
  {
   "cell_type": "code",
   "execution_count": 51,
   "id": "7abad752",
   "metadata": {},
   "outputs": [],
   "source": [
    "node = ['a', 'b', 'c', 'd', 'e', 'f']\n",
    "edges = [('a', 'b'), ('a', 'c'), ('b', 'd'), ('c', 'e'), ('d', 'f')]"
   ]
  },
  {
   "cell_type": "code",
   "execution_count": 52,
   "id": "285fc905",
   "metadata": {},
   "outputs": [],
   "source": [
    "g = Graph(node)"
   ]
  },
  {
   "cell_type": "code",
   "execution_count": 53,
   "id": "590f2497",
   "metadata": {},
   "outputs": [],
   "source": [
    "g.edges(edges)"
   ]
  },
  {
   "cell_type": "code",
   "execution_count": 54,
   "id": "25904479",
   "metadata": {},
   "outputs": [
    {
     "data": {
      "text/plain": [
       "{'a': ['b', 'c'], 'b': ['d'], 'c': ['e'], 'd': ['f'], 'e': [], 'f': []}"
      ]
     },
     "execution_count": 54,
     "metadata": {},
     "output_type": "execute_result"
    }
   ],
   "source": [
    "g.graph"
   ]
  },
  {
   "cell_type": "code",
   "execution_count": 55,
   "id": "1172f2ee",
   "metadata": {},
   "outputs": [
    {
     "name": "stdout",
     "output_type": "stream",
     "text": [
      "a\n",
      "c\n",
      "e\n",
      "b\n",
      "d\n",
      "f\n"
     ]
    }
   ],
   "source": [
    "g.dfs('a')"
   ]
  },
  {
   "cell_type": "code",
   "execution_count": 56,
   "id": "d3692bc4",
   "metadata": {},
   "outputs": [
    {
     "name": "stdout",
     "output_type": "stream",
     "text": [
      "a\n",
      "b\n",
      "c\n",
      "d\n",
      "e\n",
      "f\n"
     ]
    }
   ],
   "source": [
    "g.bfs('a')"
   ]
  },
  {
   "cell_type": "code",
   "execution_count": 58,
   "id": "6bc6f629",
   "metadata": {},
   "outputs": [
    {
     "name": "stdout",
     "output_type": "stream",
     "text": [
      "a\n",
      "b\n",
      "d\n",
      "f\n",
      "c\n",
      "e\n"
     ]
    }
   ],
   "source": [
    "g.recur_dfs('a')"
   ]
  },
  {
   "cell_type": "code",
   "execution_count": null,
   "id": "de91203f",
   "metadata": {},
   "outputs": [],
   "source": []
  }
 ],
 "metadata": {
  "kernelspec": {
   "display_name": "Python 3 (ipykernel)",
   "language": "python",
   "name": "python3"
  },
  "language_info": {
   "codemirror_mode": {
    "name": "ipython",
    "version": 3
   },
   "file_extension": ".py",
   "mimetype": "text/x-python",
   "name": "python",
   "nbconvert_exporter": "python",
   "pygments_lexer": "ipython3",
   "version": "3.9.13"
  }
 },
 "nbformat": 4,
 "nbformat_minor": 5
}
